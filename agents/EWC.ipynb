{
 "cells": [
  {
   "cell_type": "code",
   "execution_count": 5,
   "metadata": {},
   "outputs": [],
   "source": [
    "#Torch\n",
    "import torch\n",
    "import torch.nn as nn\n",
    "from torch.optim import SGD\n",
    "from torch.nn import CrossEntropyLoss\n",
    "\n",
    "# Ready to use continual learning benchmarks\n",
    "from avalanche.benchmarks.datasets import MNIST, FashionMNIST, KMNIST, EMNIST, QMNIST, FakeData, CocoCaptions, CocoDetection, LSUN, ImageNet, CIFAR10, CIFAR100, STL10, SVHN, PhotoTour, SBU, Flickr8k, Flickr30k, VOCDetection, VOCSegmentation, Cityscapes, SBDataset, USPS, Kinetics400, HMDB51, UCF101, CelebA, TinyImagenet, CUB200, OpenLORIS\n",
    "\n",
    "# Models\n",
    "import avalanche\n",
    "from avalanche.models import SimpleCNN\n",
    "from avalanche.models import SimpleMLP\n",
    "from avalanche.models import MTSimpleMLP\n",
    "from avalanche.models import SimpleMLP_TinyImageNet\n",
    "from avalanche.models import MobilenetV1\n",
    "\n",
    "# Build-in strategies\n",
    "from avalanche.training.strategies import Naive, CWRStar, Replay, GDumb, LwF, GEM, AGEM, EWC\n",
    "\n",
    "# Base strategy classes\n",
    "from avalanche.training.strategies import BaseStrategy\n",
    "from avalanche.training.plugins import StrategyPlugin\n",
    "from typing import Optional, Sequence, Union\n",
    "from avalanche.benchmarks import Experience\n",
    "\n",
    "# Logger\n",
    "from avalanche.logging import InteractiveLogger\n",
    "\n",
    "# Evaluation\n",
    "from avalanche.evaluation.metrics import forgetting_metrics, accuracy_metrics, loss_metrics, timing_metrics, cpu_usage_metrics, confusion_matrix_metrics, disk_usage_metrics\n",
    "from avalanche.training.plugins import EvaluationPlugin\n",
    "from avalanche.evaluation.metrics import StreamAccuracy\n",
    "from avalanche.evaluation.plot_utils import learning_curves_plot\n",
    "\n",
    "from avalanche.training.strategies import BaseStrategy\n",
    "from typing import Optional, Sequence, Union\n",
    "from avalanche.benchmarks import Experience\n",
    "\n",
    "from avalanche.training.plugins import ReplayPlugin, EWCPlugin\n",
    "from avalanche.evaluation.metrics import forgetting_metrics, accuracy_metrics, loss_metrics, timing_metrics, cpu_usage_metrics, confusion_matrix_metrics, disk_usage_metrics\n",
    "from avalanche.training.plugins import EvaluationPlugin\n",
    "\n",
    "from avalanche.benchmarks.classic import SplitMNIST, SplitCIFAR10\n",
    "from avalanche.logging import InteractiveLogger\n",
    "\n",
    "import utils\n",
    "import sys"
   ]
  },
  {
   "cell_type": "code",
   "execution_count": 6,
   "metadata": {},
   "outputs": [
    {
     "name": "stderr",
     "output_type": "stream",
     "text": [
      "usage: ipykernel_launcher.py [-h] [--gpuid GPUID [GPUID ...]]\n",
      "                             [--model_type MODEL_TYPE]\n",
      "                             [--model_name MODEL_NAME]\n",
      "                             [--force_out_dim FORCE_OUT_DIM]\n",
      "                             [--agent_type AGENT_TYPE] [--outdir OUTDIR]\n",
      "                             [--agent_name AGENT_NAME] [--optimizer OPTIMIZER]\n",
      "                             [--dataroot DATAROOT] [--dataset DATASET]\n",
      "                             [--device DEVICE] [--n_permutation N_PERMUTATION]\n",
      "                             [--first_split_size FIRST_SPLIT_SIZE]\n",
      "                             [--other_split_size OTHER_SPLIT_SIZE]\n",
      "                             [--no_class_remap] [--train_aug] [--rand_split]\n",
      "                             [--rand_split_order] [--workers WORKERS]\n",
      "                             [--batch_size BATCH_SIZE] [--shuffle] [--lr LR]\n",
      "                             [--momentum MOMENTUM]\n",
      "                             [--weight_decay WEIGHT_DECAY]\n",
      "                             [--schedule SCHEDULE [SCHEDULE ...]]\n",
      "                             [--print_freq PRINT_FREQ]\n",
      "                             [--model_weights MODEL_WEIGHTS]\n",
      "                             [--reg_coef REG_COEF [REG_COEF ...]]\n",
      "                             [--eval_on_train_set] [--offline_training]\n",
      "                             [--repeat REPEAT] [--incremental_class]\n",
      "                             [--num-workers NUM_WORKERS]\n",
      "                             [--wand-project WAND_PROJECT]\n",
      "                             [--wand-note WAND_NOTE] [--username USERNAME]\n",
      "                             [--wandb-logging WANDB_LOGGING]\n",
      "ipykernel_launcher.py: error: unrecognized arguments: -f /home/hikmat/.local/share/jupyter/runtime/kernel-8971dd24-effe-4ebe-8d27-8633240fdedb.json\n"
     ]
    },
    {
     "ename": "SystemExit",
     "evalue": "2",
     "output_type": "error",
     "traceback": [
      "An exception has occurred, use %tb to see the full traceback.\n",
      "\u001b[0;31mSystemExit\u001b[0m\u001b[0;31m:\u001b[0m 2\n"
     ]
    },
    {
     "name": "stderr",
     "output_type": "stream",
     "text": [
      "/home/hikmat/anaconda3/envs/PY3/lib/python3.9/site-packages/IPython/core/interactiveshell.py:3449: UserWarning: To exit: use 'exit', 'quit', or Ctrl-D.\n",
      "  warn(\"To exit: use 'exit', 'quit', or Ctrl-D.\", stacklevel=1)\n"
     ]
    }
   ],
   "source": [
    "\n",
    "if __name__ == '__main__':\n",
    "\n",
    "    utils.fix_seeds()\n",
    "\n",
    "    # Load cmd arguments\n",
    "    args = utils.get_args(sys.argv[1:])\n",
    "    print(args)\n",
    "    # generic_scenario = get_cifar_experience()\n",
    "    #\n",
    "    # print(generic_scenario.n_experiences)\n",
    "\n"
   ]
  },
  {
   "cell_type": "code",
   "execution_count": null,
   "metadata": {},
   "outputs": [],
   "source": []
  }
 ],
 "metadata": {
  "kernelspec": {
   "display_name": "Python 3 (ipykernel)",
   "language": "python",
   "name": "python3"
  },
  "language_info": {
   "codemirror_mode": {
    "name": "ipython",
    "version": 3
   },
   "file_extension": ".py",
   "mimetype": "text/x-python",
   "name": "python",
   "nbconvert_exporter": "python",
   "pygments_lexer": "ipython3",
   "version": "3.9.6"
  }
 },
 "nbformat": 4,
 "nbformat_minor": 4
}
